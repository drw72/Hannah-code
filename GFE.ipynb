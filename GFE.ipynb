{
 "cells": [
  {
   "cell_type": "code",
   "execution_count": null,
   "id": "6cd9ca87-e6ce-4144-b13f-a4f539134a12",
   "metadata": {},
   "outputs": [],
   "source": [
    "import numpy as np\n",
    "import matplotlib.pyplot as plt\n",
    "from sklearn.datasets import make_classification\n",
    "from sklearn.linear_model import LogisticRegression\n",
    "from sklearn.feature_selection import RFE\n",
    "from sklearn.model_selection import train_test_split\n",
    "from sklearn.metrics import accuracy_score\n",
    "\n",
    "# Generate a synthetic dataset\n",
    "X, y = make_classification(n_samples=1000, n_features=25, n_informative=5, n_redundant=2, n_classes=2, random_state=42)\n",
    "\n",
    "# Split the dataset into training and test sets\n",
    "X_train, X_test, y_train, y_test = train_test_split(X, y, test_size=0.3, random_state=42)\n",
    "\n",
    "# Initialize the model\n",
    "model = LogisticRegression(max_iter=500)\n",
    "\n",
    "# Initialize RFE with the logistic regression model and desired number of features\n",
    "# Here, we will select 5 features as an example\n",
    "rfe = RFE(estimator=model, n_features_to_select=5, step=1)\n",
    "\n",
    "# Fit RFE\n",
    "rfe.fit(X_train, y_train)\n",
    "\n",
    "# Make predictions\n",
    "y_pred = rfe.predict(X_test)\n",
    "\n",
    "# Calculate accuracy\n",
    "accuracy = accuracy_score(y_test, y_pred)\n",
    "print(f'Accuracy: {accuracy:.2f}')\n",
    "\n",
    "# Plot the ranking of features\n",
    "plt.figure(figsize=(10, 6))\n",
    "plt.title(\"Feature Importance Ranking\")\n",
    "ranking = rfe.ranking_\n",
    "plt.bar(range(X.shape[1]), ranking)\n",
    "plt.xlabel('Feature Index')\n",
    "plt.ylabel('Importance Rank')\n",
    "plt.show()\n",
    "\n",
    "# Optionally, show which features were selected\n",
    "selected_features_indices = np.where(rfe.support_)[0]\n",
    "print(f'Selected features indices: {selected_features_indices}')\n",
    "\n",
    "\n",
    "#This script does the following:\n",
    "#Generates a synthetic dataset: It creates a dataset with 25 features, where 5 are informative, and 2 are redundant.\n",
    "#Splits the dataset: It divides the dataset into a training set and a test set.\n",
    "#Initializes and fits RFE: It uses a logistic regression model for feature ranking and selection, specifying to select 5 features.\n",
    "#Evaluates the model: It calculates and prints the accuracy of the model on the test set.\n",
    "#Plots feature importance: It creates a bar plot showing the ranking of features according to their importance in prediction, as determined by RFE.\n",
    "#Identifies selected features: It prints the indices of the features that were selected by RFE as most important."
   ]
  }
 ],
 "metadata": {
  "kernelspec": {
   "display_name": "Python 3 (ipykernel)",
   "language": "python",
   "name": "python3"
  },
  "language_info": {
   "codemirror_mode": {
    "name": "ipython",
    "version": 3
   },
   "file_extension": ".py",
   "mimetype": "text/x-python",
   "name": "python",
   "nbconvert_exporter": "python",
   "pygments_lexer": "ipython3",
   "version": "3.12.5"
  }
 },
 "nbformat": 4,
 "nbformat_minor": 5
}
